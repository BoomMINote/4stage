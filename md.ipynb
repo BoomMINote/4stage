{
 "cells": [
  {
   "attachments": {},
   "cell_type": "markdown",
   "metadata": {},
   "source": [
    "# a\n",
    "## aa\n",
    "### aaa\n",
    "`C++ and C` <br>\n",
    "is the *best* **language** ***that I ever used.*** "
   ]
  },
  {
   "attachments": {},
   "cell_type": "markdown",
   "metadata": {},
   "source": []
  }
 ],
 "metadata": {
  "language_info": {
   "name": "python"
  },
  "orig_nbformat": 4
 },
 "nbformat": 4,
 "nbformat_minor": 2
}
